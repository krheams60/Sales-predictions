{
  "nbformat": 4,
  "nbformat_minor": 0,
  "metadata": {
    "colab": {
      "provenance": [],
      "authorship_tag": "ABX9TyOeEpniKSGl/HzZnkRew/sG",
      "include_colab_link": true
    },
    "kernelspec": {
      "name": "python3",
      "display_name": "Python 3"
    },
    "language_info": {
      "name": "python"
    }
  },
  "cells": [
    {
      "cell_type": "markdown",
      "metadata": {
        "id": "view-in-github",
        "colab_type": "text"
      },
      "source": [
        "<a href=\"https://colab.research.google.com/github/krheams60/Sales-predictions/blob/main/Untitled16.ipynb\" target=\"_parent\"><img src=\"https://colab.research.google.com/assets/colab-badge.svg\" alt=\"Open In Colab\"/></a>"
      ]
    },
    {
      "cell_type": "code",
      "execution_count": null,
      "metadata": {
        "id": "BJfK1Gad2iJk"
      },
      "outputs": [],
      "source": []
    },
    {
      "cell_type": "markdown",
      "source": [
        "H1: \"# Project 1 - Part 1\"\n",
        "     # Ken Rheams\n",
        "H2: \"## Loading Data\"\n",
        "H2: \"## Data Cleaning\"\n",
        "H2: \"## Exploratory Visuals\"\n",
        "H2: \"## Explanatory Visuals\"\n",
        "      "
      ],
      "metadata": {
        "id": "75OMgT_22itF"
      }
    }
  ]
}