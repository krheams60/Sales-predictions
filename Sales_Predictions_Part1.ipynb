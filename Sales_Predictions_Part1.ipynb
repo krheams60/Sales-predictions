{
  "nbformat": 4,
  "nbformat_minor": 0,
  "metadata": {
    "colab": {
      "provenance": [],
      "collapsed_sections": [],
      "authorship_tag": "ABX9TyM1qX1CqVW6S5pCx8O9F/4L",
      "include_colab_link": true
    },
    "kernelspec": {
      "name": "python3",
      "display_name": "Python 3"
    },
    "language_info": {
      "name": "python"
    }
  },
  "cells": [
    {
      "cell_type": "markdown",
      "metadata": {
        "id": "view-in-github",
        "colab_type": "text"
      },
      "source": [
        "<a href=\"https://colab.research.google.com/github/krheams60/Sales-predictions/blob/main/Sales_Predictions_Part1.ipynb\" target=\"_parent\"><img src=\"https://colab.research.google.com/assets/colab-badge.svg\" alt=\"Open In Colab\"/></a>"
      ]
    },
    {
      "cell_type": "code",
      "execution_count": null,
      "metadata": {
        "id": "a-yPHFo2FIhg"
      },
      "outputs": [],
      "source": []
    },
    {
      "cell_type": "markdown",
      "source": [
        "# Sales Predictions\n",
        "\n",
        "Ken Rheams"
      ],
      "metadata": {
        "id": "-bkUyvEbTRY8"
      }
    },
    {
      "cell_type": "code",
      "source": [],
      "metadata": {
        "id": "sQJKDH2-TkQS"
      },
      "execution_count": null,
      "outputs": []
    },
    {
      "cell_type": "markdown",
      "source": [
        "## Loading Data"
      ],
      "metadata": {
        "id": "lxYGB39tT1sH"
      }
    },
    {
      "cell_type": "code",
      "source": [],
      "metadata": {
        "id": "SIuh-0O9T6vE"
      },
      "execution_count": null,
      "outputs": []
    },
    {
      "cell_type": "markdown",
      "source": [
        "## Data Cleaning"
      ],
      "metadata": {
        "id": "pCQf1qljT7pf"
      }
    },
    {
      "cell_type": "code",
      "source": [],
      "metadata": {
        "id": "k6j14bffUATR"
      },
      "execution_count": null,
      "outputs": []
    },
    {
      "cell_type": "markdown",
      "source": [
        "## Exploratory Visuals"
      ],
      "metadata": {
        "id": "lzd1paiYUBAp"
      }
    },
    {
      "cell_type": "code",
      "source": [],
      "metadata": {
        "id": "WlmH8ga1UFvH"
      },
      "execution_count": null,
      "outputs": []
    },
    {
      "cell_type": "markdown",
      "source": [
        "## Explanatory Visuals"
      ],
      "metadata": {
        "id": "rjcs7sDlUGXS"
      }
    },
    {
      "cell_type": "code",
      "source": [],
      "metadata": {
        "id": "Fjbmvo1HULzB"
      },
      "execution_count": null,
      "outputs": []
    }
  ]
}